{
 "cells": [
  {
   "cell_type": "code",
   "execution_count": 3,
   "metadata": {
    "id": "lcvIn749yqrd"
   },
   "outputs": [],
   "source": [
    "import zipfile\n",
    "\n",
    "with zipfile.ZipFile('/content/new-plant-diseases-dataset.zip') as zp:\n",
    "  zp.extractall('/content/')"
   ]
  },
  {
   "cell_type": "code",
   "execution_count": 4,
   "metadata": {
    "id": "EMnB3TSv2em_"
   },
   "outputs": [],
   "source": [
    "import torch\n",
    "from torchvision import transforms\n",
    "import torchvision\n",
    "from torch.utils.data import DataLoader\n",
    "import pandas as pd\n",
    "import numpy as np\n",
    "import matplotlib.pyplot as plt\n",
    "import seaborn as sns"
   ]
  },
  {
   "cell_type": "code",
   "execution_count": 5,
   "metadata": {
    "id": "eItOCzQG2x3N"
   },
   "outputs": [],
   "source": [
    "transform = transforms.Compose([\n",
    "    transforms.ToTensor(),\n",
    "    transforms.Resize((32,32))\n",
    "])"
   ]
  },
  {
   "cell_type": "code",
   "execution_count": 6,
   "metadata": {
    "id": "n0k0zBt43KZ2"
   },
   "outputs": [],
   "source": [
    "train_data = torchvision.datasets.ImageFolder('/content/New Plant Diseases Dataset(Augmented)/New Plant Diseases Dataset(Augmented)/train', transform=transform)"
   ]
  },
  {
   "cell_type": "code",
   "execution_count": 7,
   "metadata": {
    "colab": {
     "base_uri": "https://localhost:8080/"
    },
    "id": "ONNY_-b63Spg",
    "outputId": "e29cc492-2d41-4ebe-faee-3f50669ff897"
   },
   "outputs": [
    {
     "data": {
      "text/plain": [
       "Dataset ImageFolder\n",
       "    Number of datapoints: 70295\n",
       "    Root location: /content/New Plant Diseases Dataset(Augmented)/New Plant Diseases Dataset(Augmented)/train\n",
       "    StandardTransform\n",
       "Transform: Compose(\n",
       "               ToTensor()\n",
       "               Resize(size=(32, 32), interpolation=bilinear, max_size=None, antialias=warn)\n",
       "           )"
      ]
     },
     "execution_count": 7,
     "metadata": {},
     "output_type": "execute_result"
    }
   ],
   "source": [
    "train_data"
   ]
  },
  {
   "cell_type": "code",
   "execution_count": 8,
   "metadata": {
    "colab": {
     "base_uri": "https://localhost:8080/"
    },
    "id": "rf_FkTRg3WcZ",
    "outputId": "9653b189-58f0-40cb-ab8c-d41486528249"
   },
   "outputs": [
    {
     "data": {
      "text/plain": [
       "{'Apple___Apple_scab': 0,\n",
       " 'Apple___Black_rot': 1,\n",
       " 'Apple___Cedar_apple_rust': 2,\n",
       " 'Apple___healthy': 3,\n",
       " 'Blueberry___healthy': 4,\n",
       " 'Cherry_(including_sour)___Powdery_mildew': 5,\n",
       " 'Cherry_(including_sour)___healthy': 6,\n",
       " 'Corn_(maize)___Cercospora_leaf_spot Gray_leaf_spot': 7,\n",
       " 'Corn_(maize)___Common_rust_': 8,\n",
       " 'Corn_(maize)___Northern_Leaf_Blight': 9,\n",
       " 'Corn_(maize)___healthy': 10,\n",
       " 'Grape___Black_rot': 11,\n",
       " 'Grape___Esca_(Black_Measles)': 12,\n",
       " 'Grape___Leaf_blight_(Isariopsis_Leaf_Spot)': 13,\n",
       " 'Grape___healthy': 14,\n",
       " 'Orange___Haunglongbing_(Citrus_greening)': 15,\n",
       " 'Peach___Bacterial_spot': 16,\n",
       " 'Peach___healthy': 17,\n",
       " 'Pepper,_bell___Bacterial_spot': 18,\n",
       " 'Pepper,_bell___healthy': 19,\n",
       " 'Potato___Early_blight': 20,\n",
       " 'Potato___Late_blight': 21,\n",
       " 'Potato___healthy': 22,\n",
       " 'Raspberry___healthy': 23,\n",
       " 'Soybean___healthy': 24,\n",
       " 'Squash___Powdery_mildew': 25,\n",
       " 'Strawberry___Leaf_scorch': 26,\n",
       " 'Strawberry___healthy': 27,\n",
       " 'Tomato___Bacterial_spot': 28,\n",
       " 'Tomato___Early_blight': 29,\n",
       " 'Tomato___Late_blight': 30,\n",
       " 'Tomato___Leaf_Mold': 31,\n",
       " 'Tomato___Septoria_leaf_spot': 32,\n",
       " 'Tomato___Spider_mites Two-spotted_spider_mite': 33,\n",
       " 'Tomato___Target_Spot': 34,\n",
       " 'Tomato___Tomato_Yellow_Leaf_Curl_Virus': 35,\n",
       " 'Tomato___Tomato_mosaic_virus': 36,\n",
       " 'Tomato___healthy': 37}"
      ]
     },
     "execution_count": 8,
     "metadata": {},
     "output_type": "execute_result"
    }
   ],
   "source": [
    "train_data.class_to_idx"
   ]
  },
  {
   "cell_type": "code",
   "execution_count": 9,
   "metadata": {
    "id": "LwKeJJ6f3i-S"
   },
   "outputs": [],
   "source": [
    "test_data = torchvision.datasets.ImageFolder('/content/New Plant Diseases Dataset(Augmented)/New Plant Diseases Dataset(Augmented)/valid', transform=transform)"
   ]
  },
  {
   "cell_type": "code",
   "execution_count": 10,
   "metadata": {
    "colab": {
     "base_uri": "https://localhost:8080/"
    },
    "id": "qVRU-pqT3p-W",
    "outputId": "5821d69e-0abb-4db6-ebb9-7f0bc74397b9"
   },
   "outputs": [
    {
     "data": {
      "text/plain": [
       "Dataset ImageFolder\n",
       "    Number of datapoints: 17572\n",
       "    Root location: /content/New Plant Diseases Dataset(Augmented)/New Plant Diseases Dataset(Augmented)/valid\n",
       "    StandardTransform\n",
       "Transform: Compose(\n",
       "               ToTensor()\n",
       "               Resize(size=(32, 32), interpolation=bilinear, max_size=None, antialias=warn)\n",
       "           )"
      ]
     },
     "execution_count": 10,
     "metadata": {},
     "output_type": "execute_result"
    }
   ],
   "source": [
    "test_data"
   ]
  },
  {
   "cell_type": "code",
   "execution_count": 11,
   "metadata": {
    "id": "zXmBDNN_301C"
   },
   "outputs": [],
   "source": [
    "train_loader = DataLoader(train_data, batch_size=32, shuffle=True)\n",
    "test_loader = DataLoader(test_data, batch_size=32, shuffle=True)"
   ]
  },
  {
   "cell_type": "code",
   "execution_count": 28,
   "metadata": {
    "colab": {
     "base_uri": "https://localhost:8080/"
    },
    "id": "zCJgtZeD4i_w",
    "outputId": "5d4e1c0d-2423-437d-ba6a-b4940f11e442"
   },
   "outputs": [
    {
     "name": "stderr",
     "output_type": "stream",
     "text": [
      "/usr/local/lib/python3.10/dist-packages/torchvision/transforms/functional.py:1603: UserWarning: The default value of the antialias parameter of all the resizing transforms (Resize(), RandomResizedCrop(), etc.) will change from None to True in v0.17, in order to be consistent across the PIL and Tensor backends. To suppress this warning, directly pass antialias=True (recommended, future default), antialias=None (current default, which means False for Tensors and True for PIL), or antialias=False (only works on Tensors - PIL will still use antialiasing). This also applies if you are using the inference transforms from the models weights: update the call to weights.transforms(antialias=True).\n",
      "  warnings.warn(\n"
     ]
    }
   ],
   "source": [
    "sample = (next(iter(train_loader))[0][0]).permute((1,2,0))"
   ]
  },
  {
   "cell_type": "code",
   "execution_count": 22,
   "metadata": {
    "colab": {
     "base_uri": "https://localhost:8080/"
    },
    "id": "duSdSs0E4mOL",
    "outputId": "2e407ae8-85a2-46cb-c8ef-d8ffbe797e01"
   },
   "outputs": [
    {
     "data": {
      "text/plain": [
       "torch.Size([32, 32, 3])"
      ]
     },
     "execution_count": 22,
     "metadata": {},
     "output_type": "execute_result"
    }
   ],
   "source": [
    "sample.shape"
   ]
  },
  {
   "cell_type": "code",
   "execution_count": 29,
   "metadata": {
    "colab": {
     "base_uri": "https://localhost:8080/",
     "height": 160
    },
    "id": "TTg1nU4-4Be-",
    "outputId": "03e2cf67-118b-499c-c23e-c988181ad597"
   },
   "outputs": [
    {
     "data": {
      "text/plain": [
       "<matplotlib.image.AxesImage at 0x7df3dd513d30>"
      ]
     },
     "execution_count": 29,
     "metadata": {},
     "output_type": "execute_result"
    },
    {
     "data": {
      "image/png": "[encoded data removed]",
      "text/plain": [
       "<Figure size 100x100 with 1 Axes>"
      ]
     },
     "metadata": {},
     "output_type": "display_data"
    }
   ],
   "source": [
    "plt.figure(figsize=(1,1))\n",
    "plt.imshow(sample)"
   ]
  },
  {
   "cell_type": "code",
   "execution_count": 30,
   "metadata": {
    "id": "UTskOk_U4xNM"
   },
   "outputs": [],
   "source": [
    "import os\n",
    "\n",
    "train_path = '/content/New Plant Diseases Dataset(Augmented)/New Plant Diseases Dataset(Augmented)/train'"
   ]
  },
  {
   "cell_type": "code",
   "execution_count": 31,
   "metadata": {
    "colab": {
     "base_uri": "https://localhost:8080/"
    },
    "id": "dc50kr8W5BmQ",
    "outputId": "e1c503f8-5ebb-43b6-e8d4-195adaaad992"
   },
   "outputs": [
    {
     "data": {
      "text/plain": [
       "{'Apple___Apple_scab': 0,\n",
       " 'Apple___Black_rot': 1,\n",
       " 'Apple___Cedar_apple_rust': 2,\n",
       " 'Apple___healthy': 3,\n",
       " 'Blueberry___healthy': 4,\n",
       " 'Cherry_(including_sour)___Powdery_mildew': 5,\n",
       " 'Cherry_(including_sour)___healthy': 6,\n",
       " 'Corn_(maize)___Cercospora_leaf_spot Gray_leaf_spot': 7,\n",
       " 'Corn_(maize)___Common_rust_': 8,\n",
       " 'Corn_(maize)___Northern_Leaf_Blight': 9,\n",
       " 'Corn_(maize)___healthy': 10,\n",
       " 'Grape___Black_rot': 11,\n",
       " 'Grape___Esca_(Black_Measles)': 12,\n",
       " 'Grape___Leaf_blight_(Isariopsis_Leaf_Spot)': 13,\n",
       " 'Grape___healthy': 14,\n",
       " 'Orange___Haunglongbing_(Citrus_greening)': 15,\n",
       " 'Peach___Bacterial_spot': 16,\n",
       " 'Peach___healthy': 17,\n",
       " 'Pepper,_bell___Bacterial_spot': 18,\n",
       " 'Pepper,_bell___healthy': 19,\n",
       " 'Potato___Early_blight': 20,\n",
       " 'Potato___Late_blight': 21,\n",
       " 'Potato___healthy': 22,\n",
       " 'Raspberry___healthy': 23,\n",
       " 'Soybean___healthy': 24,\n",
       " 'Squash___Powdery_mildew': 25,\n",
       " 'Strawberry___Leaf_scorch': 26,\n",
       " 'Strawberry___healthy': 27,\n",
       " 'Tomato___Bacterial_spot': 28,\n",
       " 'Tomato___Early_blight': 29,\n",
       " 'Tomato___Late_blight': 30,\n",
       " 'Tomato___Leaf_Mold': 31,\n",
       " 'Tomato___Septoria_leaf_spot': 32,\n",
       " 'Tomato___Spider_mites Two-spotted_spider_mite': 33,\n",
       " 'Tomato___Target_Spot': 34,\n",
       " 'Tomato___Tomato_Yellow_Leaf_Curl_Virus': 35,\n",
       " 'Tomato___Tomato_mosaic_virus': 36,\n",
       " 'Tomato___healthy': 37}"
      ]
     },
     "execution_count": 31,
     "metadata": {},
     "output_type": "execute_result"
    }
   ],
   "source": [
    "train_data.class_to_idx"
   ]
  },
  {
   "cell_type": "code",
   "execution_count": 33,
   "metadata": {
    "id": "EjpqJab25BPQ"
   },
   "outputs": [],
   "source": [
    "healthy =[]\n",
    "diseases = []\n",
    "\n",
    "for d in os.listdir(train_path):\n",
    "  temp = d.split('___')\n",
    "  if 'healthy' in temp:\n",
    "    healthy.append(d)\n",
    "  else:\n",
    "    diseases.append(d)\n"
   ]
  },
  {
   "cell_type": "code",
   "execution_count": 37,
   "metadata": {
    "colab": {
     "base_uri": "https://localhost:8080/"
    },
    "id": "Dw0kBJQn5gl6",
    "outputId": "40f672fb-dfbb-456a-8a50-b12480fda95e"
   },
   "outputs": [
    {
     "data": {
      "text/plain": [
       "12"
      ]
     },
     "execution_count": 37,
     "metadata": {},
     "output_type": "execute_result"
    }
   ],
   "source": [
    "len(healthy)"
   ]
  },
  {
   "cell_type": "code",
   "execution_count": 36,
   "metadata": {
    "colab": {
     "base_uri": "https://localhost:8080/"
    },
    "id": "jY-9oZfY5hjm",
    "outputId": "e934fada-5c43-4c4e-c086-997256dc7879"
   },
   "outputs": [
    {
     "data": {
      "text/plain": [
       "26"
      ]
     },
     "execution_count": 36,
     "metadata": {},
     "output_type": "execute_result"
    }
   ],
   "source": [
    "len(diseases)"
   ]
  },
  {
   "cell_type": "code",
   "execution_count": 38,
   "metadata": {
    "id": "6-Na0r1h5sot"
   },
   "outputs": [],
   "source": [
    "count = dict()\n",
    "\n",
    "for d in os.listdir(train_path):\n",
    "  count[d] = len(os.listdir(train_path+'/'+d))"
   ]
  },
  {
   "cell_type": "code",
   "execution_count": 39,
   "metadata": {
    "colab": {
     "base_uri": "https://localhost:8080/"
    },
    "id": "mrVBCjXG5_rC",
    "outputId": "cb418afd-7aef-4cfc-db01-a29ca2a18917"
   },
   "outputs": [
    {
     "data": {
      "text/plain": [
       "{'Tomato___Leaf_Mold': 1882,\n",
       " 'Apple___Cedar_apple_rust': 1760,\n",
       " 'Grape___Leaf_blight_(Isariopsis_Leaf_Spot)': 1722,\n",
       " 'Tomato___Early_blight': 1920,\n",
       " 'Strawberry___Leaf_scorch': 1774,\n",
       " 'Tomato___Late_blight': 1851,\n",
       " 'Pepper,_bell___healthy': 1988,\n",
       " 'Tomato___Bacterial_spot': 1702,\n",
       " 'Orange___Haunglongbing_(Citrus_greening)': 2010,\n",
       " 'Tomato___Spider_mites Two-spotted_spider_mite': 1741,\n",
       " 'Apple___Apple_scab': 2016,\n",
       " 'Tomato___healthy': 1926,\n",
       " 'Tomato___Tomato_mosaic_virus': 1790,\n",
       " 'Corn_(maize)___Cercospora_leaf_spot Gray_leaf_spot': 1642,\n",
       " 'Potato___Late_blight': 1939,\n",
       " 'Raspberry___healthy': 1781,\n",
       " 'Grape___Esca_(Black_Measles)': 1920,\n",
       " 'Strawberry___healthy': 1824,\n",
       " 'Grape___healthy': 1692,\n",
       " 'Cherry_(including_sour)___healthy': 1826,\n",
       " 'Tomato___Target_Spot': 1827,\n",
       " 'Peach___Bacterial_spot': 1838,\n",
       " 'Pepper,_bell___Bacterial_spot': 1913,\n",
       " 'Blueberry___healthy': 1816,\n",
       " 'Peach___healthy': 1728,\n",
       " 'Tomato___Septoria_leaf_spot': 1745,\n",
       " 'Squash___Powdery_mildew': 1736,\n",
       " 'Corn_(maize)___Common_rust_': 1907,\n",
       " 'Cherry_(including_sour)___Powdery_mildew': 1683,\n",
       " 'Apple___healthy': 2008,\n",
       " 'Corn_(maize)___healthy': 1859,\n",
       " 'Corn_(maize)___Northern_Leaf_Blight': 1908,\n",
       " 'Potato___healthy': 1824,\n",
       " 'Tomato___Tomato_Yellow_Leaf_Curl_Virus': 1961,\n",
       " 'Soybean___healthy': 2022,\n",
       " 'Grape___Black_rot': 1888,\n",
       " 'Apple___Black_rot': 1987,\n",
       " 'Potato___Early_blight': 1939}"
      ]
     },
     "execution_count": 39,
     "metadata": {},
     "output_type": "execute_result"
    }
   ],
   "source": [
    "count"
   ]
  },
  {
   "cell_type": "code",
   "execution_count": 41,
   "metadata": {
    "id": "XVQQrxZe6DMS"
   },
   "outputs": [],
   "source": [
    "count_df = pd.DataFrame(count.values(), index=count.keys(), columns=['no of images'])"
   ]
  },
  {
   "cell_type": "code",
   "execution_count": 42,
   "metadata": {
    "colab": {
     "base_uri": "https://localhost:8080/",
     "height": 1000
    },
    "id": "ybs1wDM76LLU",
    "outputId": "24ee8eb9-8004-4bc7-93e6-da08e399a6ef"
   },
   "outputs": [
    {
     "data": {
      "text/html": [
       "\n",
       "  <div id=\"df-dbaa797d-1ac4-4375-860c-3f9ebc8ca0f8\" class=\"colab-df-container\">\n",
       "    <div>\n",
       "<style scoped>\n",
       "    .dataframe tbody tr th:only-of-type {\n",
       "        vertical-align: middle;\n",
       "    }\n",
       "\n",
       "    .dataframe tbody tr th {\n",
       "        vertical-align: top;\n",
       "    }\n",
       "\n",
       "    .dataframe thead th {\n",
       "        text-align: right;\n",
       "    }\n",
       "</style>\n",
       "<table border=\"1\" class=\"dataframe\">\n",
       "  <thead>\n",
       "    <tr style=\"text-align: right;\">\n",
       "      <th></th>\n",
       "      <th>no of images</th>\n",
       "    </tr>\n",
       "  </thead>\n",
       "  <tbody>\n",
       "    <tr>\n",
       "      <th>Tomato___Leaf_Mold</th>\n",
       "      <td>1882</td>\n",
       "    </tr>\n",
       "    <tr>\n",
       "      <th>Apple___Cedar_apple_rust</th>\n",
       "      <td>1760</td>\n",
       "    </tr>\n",
       "    <tr>\n",
       "      <th>Grape___Leaf_blight_(Isariopsis_Leaf_Spot)</th>\n",
       "      <td>1722</td>\n",
       "    </tr>\n",
       "    <tr>\n",
       "      <th>Tomato___Early_blight</th>\n",
       "      <td>1920</td>\n",
       "    </tr>\n",
       "    <tr>\n",
       "      <th>Strawberry___Leaf_scorch</th>\n",
       "      <td>1774</td>\n",
       "    </tr>\n",
       "    <tr>\n",
       "      <th>Tomato___Late_blight</th>\n",
       "      <td>1851</td>\n",
       "    </tr>\n",
       "    <tr>\n",
       "      <th>Pepper,_bell___healthy</th>\n",
       "      <td>1988</td>\n",
       "    </tr>\n",
       "    <tr>\n",
       "      <th>Tomato___Bacterial_spot</th>\n",
       "      <td>1702</td>\n",
       "    </tr>\n",
       "    <tr>\n",
       "      <th>Orange___Haunglongbing_(Citrus_greening)</th>\n",
       "      <td>2010</td>\n",
       "    </tr>\n",
       "    <tr>\n",
       "      <th>Tomato___Spider_mites Two-spotted_spider_mite</th>\n",
       "      <td>1741</td>\n",
       "    </tr>\n",
       "    <tr>\n",
       "      <th>Apple___Apple_scab</th>\n",
       "      <td>2016</td>\n",
       "    </tr>\n",
       "    <tr>\n",
       "      <th>Tomato___healthy</th>\n",
       "      <td>1926</td>\n",
       "    </tr>\n",
       "    <tr>\n",
       "      <th>Tomato___Tomato_mosaic_virus</th>\n",
       "      <td>1790</td>\n",
       "    </tr>\n",
       "    <tr>\n",
       "      <th>Corn_(maize)___Cercospora_leaf_spot Gray_leaf_spot</th>\n",
       "      <td>1642</td>\n",
       "    </tr>\n",
       "    <tr>\n",
       "      <th>Potato___Late_blight</th>\n",
       "      <td>1939</td>\n",
       "    </tr>\n",
       "    <tr>\n",
       "      <th>Raspberry___healthy</th>\n",
       "      <td>1781</td>\n",
       "    </tr>\n",
       "    <tr>\n",
       "      <th>Grape___Esca_(Black_Measles)</th>\n",
       "      <td>1920</td>\n",
       "    </tr>\n",
       "    <tr>\n",
       "      <th>Strawberry___healthy</th>\n",
       "      <td>1824</td>\n",
       "    </tr>\n",
       "    <tr>\n",
       "      <th>Grape___healthy</th>\n",
       "      <td>1692</td>\n",
       "    </tr>\n",
       "    <tr>\n",
       "      <th>Cherry_(including_sour)___healthy</th>\n",
       "      <td>1826</td>\n",
       "    </tr>\n",
       "    <tr>\n",
       "      <th>Tomato___Target_Spot</th>\n",
       "      <td>1827</td>\n",
       "    </tr>\n",
       "    <tr>\n",
       "      <th>Peach___Bacterial_spot</th>\n",
       "      <td>1838</td>\n",
       "    </tr>\n",
       "    <tr>\n",
       "      <th>Pepper,_bell___Bacterial_spot</th>\n",
       "      <td>1913</td>\n",
       "    </tr>\n",
       "    <tr>\n",
       "      <th>Blueberry___healthy</th>\n",
       "      <td>1816</td>\n",
       "    </tr>\n",
       "    <tr>\n",
       "      <th>Peach___healthy</th>\n",
       "      <td>1728</td>\n",
       "    </tr>\n",
       "    <tr>\n",
       "      <th>Tomato___Septoria_leaf_spot</th>\n",
       "      <td>1745</td>\n",
       "    </tr>\n",
       "    <tr>\n",
       "      <th>Squash___Powdery_mildew</th>\n",
       "      <td>1736</td>\n",
       "    </tr>\n",
       "    <tr>\n",
       "      <th>Corn_(maize)___Common_rust_</th>\n",
       "      <td>1907</td>\n",
       "    </tr>\n",
       "    <tr>\n",
       "      <th>Cherry_(including_sour)___Powdery_mildew</th>\n",
       "      <td>1683</td>\n",
       "    </tr>\n",
       "    <tr>\n",
       "      <th>Apple___healthy</th>\n",
       "      <td>2008</td>\n",
       "    </tr>\n",
       "    <tr>\n",
       "      <th>Corn_(maize)___healthy</th>\n",
       "      <td>1859</td>\n",
       "    </tr>\n",
       "    <tr>\n",
       "      <th>Corn_(maize)___Northern_Leaf_Blight</th>\n",
       "      <td>1908</td>\n",
       "    </tr>\n",
       "    <tr>\n",
       "      <th>Potato___healthy</th>\n",
       "      <td>1824</td>\n",
       "    </tr>\n",
       "    <tr>\n",
       "      <th>Tomato___Tomato_Yellow_Leaf_Curl_Virus</th>\n",
       "      <td>1961</td>\n",
       "    </tr>\n",
       "    <tr>\n",
       "      <th>Soybean___healthy</th>\n",
       "      <td>2022</td>\n",
       "    </tr>\n",
       "    <tr>\n",
       "      <th>Grape___Black_rot</th>\n",
       "      <td>1888</td>\n",
       "    </tr>\n",
       "    <tr>\n",
       "      <th>Apple___Black_rot</th>\n",
       "      <td>1987</td>\n",
       "    </tr>\n",
       "    <tr>\n",
       "      <th>Potato___Early_blight</th>\n",
       "      <td>1939</td>\n",
       "    </tr>\n",
       "  </tbody>\n",
       "</table>\n",
       "</div>\n",
       "    <div class=\"colab-df-buttons\">\n",
       "\n",
       "  <div class=\"colab-df-container\">\n",
       "    <button class=\"colab-df-convert\" onclick=\"convertToInteractive('df-dbaa797d-1ac4-4375-860c-3f9ebc8ca0f8')\"\n",
       "            title=\"Convert this dataframe to an interactive table.\"\n",
       "            style=\"display:none;\">\n",
       "\n",
       "  <svg xmlns=\"http://www.w3.org/2000/svg\" height=\"24px\" viewBox=\"0 -960 960 960\">\n",
       "    <path d=\"M120-120v-720h720v720H120Zm60-500h600v-160H180v160Zm220 220h160v-160H400v160Zm0 220h160v-160H400v160ZM180-400h160v-160H180v160Zm440 0h160v-160H620v160ZM180-180h160v-160H180v160Zm440 0h160v-160H620v160Z\"/>\n",
       "  </svg>\n",
       "    </button>\n",
       "\n",
       "  <style>\n",
       "    .colab-df-container {\n",
       "      display:flex;\n",
       "      gap: 12px;\n",
       "    }\n",
       "\n",
       "    .colab-df-convert {\n",
       "      background-color: #E8F0FE;\n",
       "      border: none;\n",
       "      border-radius: 50%;\n",
       "      cursor: pointer;\n",
       "      display: none;\n",
       "      fill: #1967D2;\n",
       "      height: 32px;\n",
       "      padding: 0 0 0 0;\n",
       "      width: 32px;\n",
       "    }\n",
       "\n",
       "    .colab-df-convert:hover {\n",
       "      background-color: #E2EBFA;\n",
       "      box-shadow: 0px 1px 2px rgba(60, 64, 67, 0.3), 0px 1px 3px 1px rgba(60, 64, 67, 0.15);\n",
       "      fill: #174EA6;\n",
       "    }\n",
       "\n",
       "    .colab-df-buttons div {\n",
       "      margin-bottom: 4px;\n",
       "    }\n",
       "\n",
       "    [theme=dark] .colab-df-convert {\n",
       "      background-color: #3B4455;\n",
       "      fill: #D2E3FC;\n",
       "    }\n",
       "\n",
       "    [theme=dark] .colab-df-convert:hover {\n",
       "      background-color: #434B5C;\n",
       "      box-shadow: 0px 1px 3px 1px rgba(0, 0, 0, 0.15);\n",
       "      filter: drop-shadow(0px 1px 2px rgba(0, 0, 0, 0.3));\n",
       "      fill: #FFFFFF;\n",
       "    }\n",
       "  </style>\n",
       "\n",
       "    <script>\n",
       "      const buttonEl =\n",
       "        document.querySelector('#df-dbaa797d-1ac4-4375-860c-3f9ebc8ca0f8 button.colab-df-convert');\n",
       "      buttonEl.style.display =\n",
       "        google.colab.kernel.accessAllowed ? 'block' : 'none';\n",
       "\n",
       "      async function convertToInteractive(key) {\n",
       "        const element = document.querySelector('#df-dbaa797d-1ac4-4375-860c-3f9ebc8ca0f8');\n",
       "        const dataTable =\n",
       "          await google.colab.kernel.invokeFunction('convertToInteractive',\n",
       "                                                    [key], {});\n",
       "        if (!dataTable) return;\n",
       "\n",
       "        const docLinkHtml = 'Like what you see? Visit the ' +\n",
       "          '<a target=\"_blank\" href=https://colab.research.google.com/notebooks/data_table.ipynb>data table notebook</a>'\n",
       "          + ' to learn more about interactive tables.';\n",
       "        element.innerHTML = '';\n",
       "        dataTable['output_type'] = 'display_data';\n",
       "        await google.colab.output.renderOutput(dataTable, element);\n",
       "        const docLink = document.createElement('div');\n",
       "        docLink.innerHTML = docLinkHtml;\n",
       "        element.appendChild(docLink);\n",
       "      }\n",
       "    </script>\n",
       "  </div>\n",
       "\n",
       "\n",
       "<div id=\"df-58557473-06c0-48c5-b556-1e396456f696\">\n",
       "  <button class=\"colab-df-quickchart\" onclick=\"quickchart('df-58557473-06c0-48c5-b556-1e396456f696')\"\n",
       "            title=\"Suggest charts\"\n",
       "            style=\"display:none;\">\n",
       "\n",
       "<svg xmlns=\"http://www.w3.org/2000/svg\" height=\"24px\"viewBox=\"0 0 24 24\"\n",
       "     width=\"24px\">\n",
       "    <g>\n",
       "        <path d=\"M19 3H5c-1.1 0-2 .9-2 2v14c0 1.1.9 2 2 2h14c1.1 0 2-.9 2-2V5c0-1.1-.9-2-2-2zM9 17H7v-7h2v7zm4 0h-2V7h2v10zm4 0h-2v-4h2v4z\"/>\n",
       "    </g>\n",
       "</svg>\n",
       "  </button>\n",
       "\n",
       "<style>\n",
       "  .colab-df-quickchart {\n",
       "      --bg-color: #E8F0FE;\n",
       "      --fill-color: #1967D2;\n",
       "      --hover-bg-color: #E2EBFA;\n",
       "      --hover-fill-color: #174EA6;\n",
       "      --disabled-fill-color: #AAA;\n",
       "      --disabled-bg-color: #DDD;\n",
       "  }\n",
       "\n",
       "  [theme=dark] .colab-df-quickchart {\n",
       "      --bg-color: #3B4455;\n",
       "      --fill-color: #D2E3FC;\n",
       "      --hover-bg-color: #434B5C;\n",
       "      --hover-fill-color: #FFFFFF;\n",
       "      --disabled-bg-color: #3B4455;\n",
       "      --disabled-fill-color: #666;\n",
       "  }\n",
       "\n",
       "  .colab-df-quickchart {\n",
       "    background-color: var(--bg-color);\n",
       "    border: none;\n",
       "    border-radius: 50%;\n",
       "    cursor: pointer;\n",
       "    display: none;\n",
       "    fill: var(--fill-color);\n",
       "    height: 32px;\n",
       "    padding: 0;\n",
       "    width: 32px;\n",
       "  }\n",
       "\n",
       "  .colab-df-quickchart:hover {\n",
       "    background-color: var(--hover-bg-color);\n",
       "    box-shadow: 0 1px 2px rgba(60, 64, 67, 0.3), 0 1px 3px 1px rgba(60, 64, 67, 0.15);\n",
       "    fill: var(--button-hover-fill-color);\n",
       "  }\n",
       "\n",
       "  .colab-df-quickchart-complete:disabled,\n",
       "  .colab-df-quickchart-complete:disabled:hover {\n",
       "    background-color: var(--disabled-bg-color);\n",
       "    fill: var(--disabled-fill-color);\n",
       "    box-shadow: none;\n",
       "  }\n",
       "\n",
       "  .colab-df-spinner {\n",
       "    border: 2px solid var(--fill-color);\n",
       "    border-color: transparent;\n",
       "    border-bottom-color: var(--fill-color);\n",
       "    animation:\n",
       "      spin 1s steps(1) infinite;\n",
       "  }\n",
       "\n",
       "  @keyframes spin {\n",
       "    0% {\n",
       "      border-color: transparent;\n",
       "      border-bottom-color: var(--fill-color);\n",
       "      border-left-color: var(--fill-color);\n",
       "    }\n",
       "    20% {\n",
       "      border-color: transparent;\n",
       "      border-left-color: var(--fill-color);\n",
       "      border-top-color: var(--fill-color);\n",
       "    }\n",
       "    30% {\n",
       "      border-color: transparent;\n",
       "      border-left-color: var(--fill-color);\n",
       "      border-top-color: var(--fill-color);\n",
       "      border-right-color: var(--fill-color);\n",
       "    }\n",
       "    40% {\n",
       "      border-color: transparent;\n",
       "      border-right-color: var(--fill-color);\n",
       "      border-top-color: var(--fill-color);\n",
       "    }\n",
       "    60% {\n",
       "      border-color: transparent;\n",
       "      border-right-color: var(--fill-color);\n",
       "    }\n",
       "    80% {\n",
       "      border-color: transparent;\n",
       "      border-right-color: var(--fill-color);\n",
       "      border-bottom-color: var(--fill-color);\n",
       "    }\n",
       "    90% {\n",
       "      border-color: transparent;\n",
       "      border-bottom-color: var(--fill-color);\n",
       "    }\n",
       "  }\n",
       "</style>\n",
       "\n",
       "  <script>\n",
       "    async function quickchart(key) {\n",
       "      const quickchartButtonEl =\n",
       "        document.querySelector('#' + key + ' button');\n",
       "      quickchartButtonEl.disabled = true;  // To prevent multiple clicks.\n",
       "      quickchartButtonEl.classList.add('colab-df-spinner');\n",
       "      try {\n",
       "        const charts = await google.colab.kernel.invokeFunction(\n",
       "            'suggestCharts', [key], {});\n",
       "      } catch (error) {\n",
       "        console.error('Error during call to suggestCharts:', error);\n",
       "      }\n",
       "      quickchartButtonEl.classList.remove('colab-df-spinner');\n",
       "      quickchartButtonEl.classList.add('colab-df-quickchart-complete');\n",
       "    }\n",
       "    (() => {\n",
       "      let quickchartButtonEl =\n",
       "        document.querySelector('#df-58557473-06c0-48c5-b556-1e396456f696 button');\n",
       "      quickchartButtonEl.style.display =\n",
       "        google.colab.kernel.accessAllowed ? 'block' : 'none';\n",
       "    })();\n",
       "  </script>\n",
       "</div>\n",
       "    </div>\n",
       "  </div>\n"
      ],
      "text/plain": [
       "                                                    no of images\n",
       "Tomato___Leaf_Mold                                          1882\n",
       "Apple___Cedar_apple_rust                                    1760\n",
       "Grape___Leaf_blight_(Isariopsis_Leaf_Spot)                  1722\n",
       "Tomato___Early_blight                                       1920\n",
       "Strawberry___Leaf_scorch                                    1774\n",
       "Tomato___Late_blight                                        1851\n",
       "Pepper,_bell___healthy                                      1988\n",
       "Tomato___Bacterial_spot                                     1702\n",
       "Orange___Haunglongbing_(Citrus_greening)                    2010\n",
       "Tomato___Spider_mites Two-spotted_spider_mite               1741\n",
       "Apple___Apple_scab                                          2016\n",
       "Tomato___healthy                                            1926\n",
       "Tomato___Tomato_mosaic_virus                                1790\n",
       "Corn_(maize)___Cercospora_leaf_spot Gray_leaf_spot          1642\n",
       "Potato___Late_blight                                        1939\n",
       "Raspberry___healthy                                         1781\n",
       "Grape___Esca_(Black_Measles)                                1920\n",
       "Strawberry___healthy                                        1824\n",
       "Grape___healthy                                             1692\n",
       "Cherry_(including_sour)___healthy                           1826\n",
       "Tomato___Target_Spot                                        1827\n",
       "Peach___Bacterial_spot                                      1838\n",
       "Pepper,_bell___Bacterial_spot                               1913\n",
       "Blueberry___healthy                                         1816\n",
       "Peach___healthy                                             1728\n",
       "Tomato___Septoria_leaf_spot                                 1745\n",
       "Squash___Powdery_mildew                                     1736\n",
       "Corn_(maize)___Common_rust_                                 1907\n",
       "Cherry_(including_sour)___Powdery_mildew                    1683\n",
       "Apple___healthy                                             2008\n",
       "Corn_(maize)___healthy                                      1859\n",
       "Corn_(maize)___Northern_Leaf_Blight                         1908\n",
       "Potato___healthy                                            1824\n",
       "Tomato___Tomato_Yellow_Leaf_Curl_Virus                      1961\n",
       "Soybean___healthy                                           2022\n",
       "Grape___Black_rot                                           1888\n",
       "Apple___Black_rot                                           1987\n",
       "Potato___Early_blight                                       1939"
      ]
     },
     "execution_count": 42,
     "metadata": {},
     "output_type": "execute_result"
    }
   ],
   "source": [
    "count_df"
   ]
  },
  {
   "cell_type": "code",
   "execution_count": 43,
   "metadata": {
    "id": "ik6N0WGx6R2D"
   },
   "outputs": [],
   "source": [
    "device = 'cuda' if torch.cuda.is_available() else 'cpu'"
   ]
  },
  {
   "cell_type": "code",
   "execution_count": 44,
   "metadata": {
    "colab": {
     "base_uri": "https://localhost:8080/",
     "height": 36
    },
    "id": "GaEee4_V6anq",
    "outputId": "3eca1ea3-f17d-4a53-a560-6ae46254874b"
   },
   "outputs": [
    {
     "data": {
      "application/vnd.google.colaboratory.intrinsic+json": {
       "type": "string"
      },
      "text/plain": [
       "'cuda'"
      ]
     },
     "execution_count": 44,
     "metadata": {},
     "output_type": "execute_result"
    }
   ],
   "source": [
    "device"
   ]
  },
  {
   "cell_type": "code",
   "execution_count": 47,
   "metadata": {
    "colab": {
     "base_uri": "https://localhost:8080/"
    },
    "id": "NlwFYva66auU",
    "outputId": "292457ed-0b3f-4f69-bc4d-c9a28d4d71fd"
   },
   "outputs": [
    {
     "name": "stderr",
     "output_type": "stream",
     "text": [
      "/usr/local/lib/python3.10/dist-packages/torchvision/transforms/functional.py:1603: UserWarning: The default value of the antialias parameter of all the resizing transforms (Resize(), RandomResizedCrop(), etc.) will change from None to True in v0.17, in order to be consistent across the PIL and Tensor backends. To suppress this warning, directly pass antialias=True (recommended, future default), antialias=None (current default, which means False for Tensors and True for PIL), or antialias=False (only works on Tensors - PIL will still use antialiasing). This also applies if you are using the inference transforms from the models weights: update the call to weights.transforms(antialias=True).\n",
      "  warnings.warn(\n"
     ]
    }
   ],
   "source": [
    "c =0\n",
    "for x in train_loader:\n",
    "  c+=1\n",
    "  x[0].to(device)\n",
    "  x[1].to(device)"
   ]
  },
  {
   "cell_type": "code",
   "execution_count": 48,
   "metadata": {
    "colab": {
     "base_uri": "https://localhost:8080/"
    },
    "id": "6tQN3f4F8UdX",
    "outputId": "545a3f43-d552-4b5a-e60b-ba0a60536b23"
   },
   "outputs": [
    {
     "data": {
      "text/plain": [
       "2197"
      ]
     },
     "execution_count": 48,
     "metadata": {},
     "output_type": "execute_result"
    }
   ],
   "source": [
    "c"
   ]
  },
  {
   "cell_type": "code",
   "execution_count": 51,
   "metadata": {
    "colab": {
     "base_uri": "https://localhost:8080/"
    },
    "id": "XUbgIFXA626g",
    "outputId": "85c88dff-d98d-4eea-fe6e-894042ac5a12"
   },
   "outputs": [
    {
     "data": {
      "text/plain": [
       "2196.71875"
      ]
     },
     "execution_count": 51,
     "metadata": {},
     "output_type": "execute_result"
    }
   ],
   "source": [
    "70295/32"
   ]
  },
  {
   "cell_type": "code",
   "execution_count": 65,
   "metadata": {
    "id": "5uR_ME3V7JhM"
   },
   "outputs": [],
   "source": [
    "from torch import nn\n",
    "class CNN(nn.Module):\n",
    "  def __init__(self):\n",
    "    super().__init__()\n",
    "\n",
    "    self.block1 = nn.Sequential(\n",
    "        nn.Conv2d(in_channels = 3, out_channels=128, kernel_size=3, padding=1),\n",
    "        nn.LeakyReLU(inplace=True),\n",
    "        nn.BatchNorm2d(128),\n",
    "        nn.MaxPool2d(kernel_size=2)\n",
    "    )\n",
    "\n",
    "    self.block2 = nn.Sequential(\n",
    "        nn.Conv2d(in_channels = 128, out_channels=256, kernel_size=3, padding=1),\n",
    "        nn.LeakyReLU(inplace=True),\n",
    "        nn.BatchNorm2d(256),\n",
    "        nn.MaxPool2d(kernel_size=2)\n",
    "    )\n",
    "\n",
    "    self.block3 = nn.Sequential(\n",
    "        nn.Conv2d(in_channels = 256, out_channels=512, kernel_size=3, padding=1),\n",
    "        nn.LeakyReLU(inplace=True),\n",
    "        nn.BatchNorm2d(512),\n",
    "        nn.MaxPool2d(kernel_size=2)\n",
    "    )\n",
    "\n",
    "    self.classify = nn.Sequential(\n",
    "        nn.Dropout(0.2),\n",
    "        nn.Flatten(),\n",
    "        nn.Linear(in_features=512*4*4, out_features=512),\n",
    "        nn.LeakyReLU(inplace=True),\n",
    "        nn.Linear(in_features=512, out_features=38)\n",
    "    )\n",
    "\n",
    "  def forward(self, x):\n",
    "    x1 = self.block1(x)\n",
    "    x2 = self.block2(x1)\n",
    "    x3 = self.block3(x2)\n",
    "    x4 = self.classify(x3)\n",
    "    return x4\n",
    "\n",
    "\n",
    "\n"
   ]
  },
  {
   "cell_type": "code",
   "execution_count": 66,
   "metadata": {
    "id": "qMTVdsfa-O92"
   },
   "outputs": [],
   "source": [
    "model = CNN().to(device)"
   ]
  },
  {
   "cell_type": "code",
   "execution_count": 67,
   "metadata": {
    "id": "ZJQPvunT8SNG"
   },
   "outputs": [],
   "source": [
    "loss = torch.nn.CrossEntropyLoss()\n",
    "optim = torch.optim.Adam(params=model.parameters(), lr=3e-4)\n",
    "epochs = 5"
   ]
  },
  {
   "cell_type": "code",
   "execution_count": 60,
   "metadata": {
    "colab": {
     "base_uri": "https://localhost:8080/"
    },
    "id": "VZXmUtZ8-qsU",
    "outputId": "34fcbcef-5c9d-484f-a144-480ad62396be"
   },
   "outputs": [
    {
     "data": {
      "text/plain": [
       "0.0003"
      ]
     },
     "execution_count": 60,
     "metadata": {},
     "output_type": "execute_result"
    }
   ],
   "source": [
    "3e-4"
   ]
  },
  {
   "cell_type": "code",
   "execution_count": 68,
   "metadata": {
    "colab": {
     "base_uri": "https://localhost:8080/"
    },
    "id": "b0RbQDn98Sc0",
    "outputId": "4b2609da-80db-4519-b2d7-4d13b60747c6"
   },
   "outputs": [
    {
     "name": "stderr",
     "output_type": "stream",
     "text": [
      "/usr/local/lib/python3.10/dist-packages/torchvision/transforms/functional.py:1603: UserWarning: The default value of the antialias parameter of all the resizing transforms (Resize(), RandomResizedCrop(), etc.) will change from None to True in v0.17, in order to be consistent across the PIL and Tensor backends. To suppress this warning, directly pass antialias=True (recommended, future default), antialias=None (current default, which means False for Tensors and True for PIL), or antialias=False (only works on Tensors - PIL will still use antialiasing). This also applies if you are using the inference transforms from the models weights: update the call to weights.transforms(antialias=True).\n",
      "  warnings.warn(\n"
     ]
    },
    {
     "name": "stdout",
     "output_type": "stream",
     "text": [
      "Epoch 0 | Loss on Training : 0.20608682930469513 | Accuracy on testing 0.8890279990894605\n"
     ]
    },
    {
     "name": "stderr",
     "output_type": "stream",
     "text": [
      "/usr/local/lib/python3.10/dist-packages/torchvision/transforms/functional.py:1603: UserWarning: The default value of the antialias parameter of all the resizing transforms (Resize(), RandomResizedCrop(), etc.) will change from None to True in v0.17, in order to be consistent across the PIL and Tensor backends. To suppress this warning, directly pass antialias=True (recommended, future default), antialias=None (current default, which means False for Tensors and True for PIL), or antialias=False (only works on Tensors - PIL will still use antialiasing). This also applies if you are using the inference transforms from the models weights: update the call to weights.transforms(antialias=True).\n",
      "  warnings.warn(\n"
     ]
    },
    {
     "name": "stdout",
     "output_type": "stream",
     "text": [
      "Epoch 1 | Loss on Training : 0.11216391623020172 | Accuracy on testing 0.9381971318005918\n"
     ]
    },
    {
     "name": "stderr",
     "output_type": "stream",
     "text": [
      "/usr/local/lib/python3.10/dist-packages/torchvision/transforms/functional.py:1603: UserWarning: The default value of the antialias parameter of all the resizing transforms (Resize(), RandomResizedCrop(), etc.) will change from None to True in v0.17, in order to be consistent across the PIL and Tensor backends. To suppress this warning, directly pass antialias=True (recommended, future default), antialias=None (current default, which means False for Tensors and True for PIL), or antialias=False (only works on Tensors - PIL will still use antialiasing). This also applies if you are using the inference transforms from the models weights: update the call to weights.transforms(antialias=True).\n",
      "  warnings.warn(\n"
     ]
    },
    {
     "name": "stdout",
     "output_type": "stream",
     "text": [
      "Epoch 2 | Loss on Training : 0.011271975934505463 | Accuracy on testing 0.9555542909173685\n"
     ]
    },
    {
     "name": "stderr",
     "output_type": "stream",
     "text": [
      "/usr/local/lib/python3.10/dist-packages/torchvision/transforms/functional.py:1603: UserWarning: The default value of the antialias parameter of all the resizing transforms (Resize(), RandomResizedCrop(), etc.) will change from None to True in v0.17, in order to be consistent across the PIL and Tensor backends. To suppress this warning, directly pass antialias=True (recommended, future default), antialias=None (current default, which means False for Tensors and True for PIL), or antialias=False (only works on Tensors - PIL will still use antialiasing). This also applies if you are using the inference transforms from the models weights: update the call to weights.transforms(antialias=True).\n",
      "  warnings.warn(\n"
     ]
    },
    {
     "name": "stdout",
     "output_type": "stream",
     "text": [
      "Epoch 3 | Loss on Training : 0.12638652324676514 | Accuracy on testing 0.9528795811518325\n"
     ]
    },
    {
     "name": "stderr",
     "output_type": "stream",
     "text": [
      "/usr/local/lib/python3.10/dist-packages/torchvision/transforms/functional.py:1603: UserWarning: The default value of the antialias parameter of all the resizing transforms (Resize(), RandomResizedCrop(), etc.) will change from None to True in v0.17, in order to be consistent across the PIL and Tensor backends. To suppress this warning, directly pass antialias=True (recommended, future default), antialias=None (current default, which means False for Tensors and True for PIL), or antialias=False (only works on Tensors - PIL will still use antialiasing). This also applies if you are using the inference transforms from the models weights: update the call to weights.transforms(antialias=True).\n",
      "  warnings.warn(\n"
     ]
    },
    {
     "name": "stdout",
     "output_type": "stream",
     "text": [
      "Epoch 4 | Loss on Training : 0.022343430668115616 | Accuracy on testing 0.9524243114045071\n"
     ]
    }
   ],
   "source": [
    "from sklearn.metrics import accuracy_score, confusion_matrix\n",
    "model.to(device)\n",
    "\n",
    "for epoch in range(epochs):\n",
    "  for b, (feature, target) in enumerate(train_loader):\n",
    "    feature = feature.to(device)\n",
    "    target = target.to(device)\n",
    "\n",
    "    model.train()\n",
    "\n",
    "    pred = model(feature)\n",
    "\n",
    "    loss_fn = loss(pred.squeeze(), target)\n",
    "\n",
    "    optim.zero_grad()\n",
    "\n",
    "    loss_fn.backward()\n",
    "\n",
    "    optim.step()\n",
    "\n",
    "  model.eval()\n",
    "  all_preds = []\n",
    "  all_targets = []\n",
    "\n",
    "  with torch.inference_mode():\n",
    "    for feature_val, target_val in test_loader:\n",
    "      feature_val = feature_val.to(device)\n",
    "      target_val = target_val.to(device)\n",
    "\n",
    "      pred_val = model(feature_val)\n",
    "      loss_val = loss(pred_val.squeeze(), target_val)\n",
    "\n",
    "      all_preds.extend(torch.argmax(torch.softmax(pred_val, dim=1), dim=1).cpu().numpy())\n",
    "      all_targets.extend(target_val.cpu().numpy())\n",
    "\n",
    "  accuracy = accuracy_score(all_targets, all_preds)\n",
    "  print(f\"Epoch {epoch} | Loss on Training : {loss_fn.item()} | Accuracy on testing {accuracy}\")\n",
    "\n",
    "\n",
    "\n"
   ]
  },
  {
   "cell_type": "code",
   "execution_count": 71,
   "metadata": {
    "colab": {
     "base_uri": "https://localhost:8080/"
    },
    "id": "kQ-sDXQfF0OO",
    "outputId": "ed8c74cf-9ce6-4818-8564-96426eb21370"
   },
   "outputs": [
    {
     "name": "stderr",
     "output_type": "stream",
     "text": [
      "/usr/local/lib/python3.10/dist-packages/torchvision/transforms/functional.py:1603: UserWarning: The default value of the antialias parameter of all the resizing transforms (Resize(), RandomResizedCrop(), etc.) will change from None to True in v0.17, in order to be consistent across the PIL and Tensor backends. To suppress this warning, directly pass antialias=True (recommended, future default), antialias=None (current default, which means False for Tensors and True for PIL), or antialias=False (only works on Tensors - PIL will still use antialiasing). This also applies if you are using the inference transforms from the models weights: update the call to weights.transforms(antialias=True).\n",
      "  warnings.warn(\n"
     ]
    }
   ],
   "source": [
    "testing = next(iter(test_loader))"
   ]
  },
  {
   "cell_type": "code",
   "execution_count": 72,
   "metadata": {
    "id": "hvp9CC3VF9co"
   },
   "outputs": [],
   "source": [
    "f = testing[0][0]\n",
    "t = testing[1][0]"
   ]
  },
  {
   "cell_type": "code",
   "execution_count": 73,
   "metadata": {
    "colab": {
     "base_uri": "https://localhost:8080/"
    },
    "id": "lnuqIIEqGBdF",
    "outputId": "67c64a95-1ec8-4581-a601-843ddf8383ae"
   },
   "outputs": [
    {
     "data": {
      "text/plain": [
       "tensor(18)"
      ]
     },
     "execution_count": 73,
     "metadata": {},
     "output_type": "execute_result"
    }
   ],
   "source": [
    "t"
   ]
  },
  {
   "cell_type": "code",
   "execution_count": 74,
   "metadata": {
    "colab": {
     "base_uri": "https://localhost:8080/"
    },
    "id": "KptauKRFGChl",
    "outputId": "a2cc5733-eb2a-448b-932e-d363965125cd"
   },
   "outputs": [
    {
     "data": {
      "text/plain": [
       "{'Apple___Apple_scab': 0,\n",
       " 'Apple___Black_rot': 1,\n",
       " 'Apple___Cedar_apple_rust': 2,\n",
       " 'Apple___healthy': 3,\n",
       " 'Blueberry___healthy': 4,\n",
       " 'Cherry_(including_sour)___Powdery_mildew': 5,\n",
       " 'Cherry_(including_sour)___healthy': 6,\n",
       " 'Corn_(maize)___Cercospora_leaf_spot Gray_leaf_spot': 7,\n",
       " 'Corn_(maize)___Common_rust_': 8,\n",
       " 'Corn_(maize)___Northern_Leaf_Blight': 9,\n",
       " 'Corn_(maize)___healthy': 10,\n",
       " 'Grape___Black_rot': 11,\n",
       " 'Grape___Esca_(Black_Measles)': 12,\n",
       " 'Grape___Leaf_blight_(Isariopsis_Leaf_Spot)': 13,\n",
       " 'Grape___healthy': 14,\n",
       " 'Orange___Haunglongbing_(Citrus_greening)': 15,\n",
       " 'Peach___Bacterial_spot': 16,\n",
       " 'Peach___healthy': 17,\n",
       " 'Pepper,_bell___Bacterial_spot': 18,\n",
       " 'Pepper,_bell___healthy': 19,\n",
       " 'Potato___Early_blight': 20,\n",
       " 'Potato___Late_blight': 21,\n",
       " 'Potato___healthy': 22,\n",
       " 'Raspberry___healthy': 23,\n",
       " 'Soybean___healthy': 24,\n",
       " 'Squash___Powdery_mildew': 25,\n",
       " 'Strawberry___Leaf_scorch': 26,\n",
       " 'Strawberry___healthy': 27,\n",
       " 'Tomato___Bacterial_spot': 28,\n",
       " 'Tomato___Early_blight': 29,\n",
       " 'Tomato___Late_blight': 30,\n",
       " 'Tomato___Leaf_Mold': 31,\n",
       " 'Tomato___Septoria_leaf_spot': 32,\n",
       " 'Tomato___Spider_mites Two-spotted_spider_mite': 33,\n",
       " 'Tomato___Target_Spot': 34,\n",
       " 'Tomato___Tomato_Yellow_Leaf_Curl_Virus': 35,\n",
       " 'Tomato___Tomato_mosaic_virus': 36,\n",
       " 'Tomato___healthy': 37}"
      ]
     },
     "execution_count": 74,
     "metadata": {},
     "output_type": "execute_result"
    }
   ],
   "source": [
    "test_data.class_to_idx"
   ]
  },
  {
   "cell_type": "code",
   "execution_count": 75,
   "metadata": {
    "id": "7v3bZ8VgGGWH"
   },
   "outputs": [],
   "source": [
    "output = model(f.unsqueeze(dim=0).to(device))"
   ]
  },
  {
   "cell_type": "code",
   "execution_count": 76,
   "metadata": {
    "colab": {
     "base_uri": "https://localhost:8080/"
    },
    "id": "Dh9_-hgUGNLZ",
    "outputId": "d7d362ec-542e-4f88-d75f-4e2355554f69"
   },
   "outputs": [
    {
     "data": {
      "text/plain": [
       "torch.Size([1, 38])"
      ]
     },
     "execution_count": 76,
     "metadata": {},
     "output_type": "execute_result"
    }
   ],
   "source": [
    "output.shape"
   ]
  },
  {
   "cell_type": "code",
   "execution_count": 78,
   "metadata": {
    "colab": {
     "base_uri": "https://localhost:8080/"
    },
    "id": "RJi1Elu-GP6g",
    "outputId": "c4d18bf5-50e2-41a7-cd26-b1fa51ca2e3e"
   },
   "outputs": [
    {
     "data": {
      "text/plain": [
       "tensor(18, device='cuda:0')"
      ]
     },
     "execution_count": 78,
     "metadata": {},
     "output_type": "execute_result"
    }
   ],
   "source": [
    "torch.argmax(torch.softmax(output, dim=1))"
   ]
  },
  {
   "cell_type": "code",
   "execution_count": 64,
   "metadata": {
    "colab": {
     "base_uri": "https://localhost:8080/"
    },
    "id": "qZPD7M5_8TF3",
    "outputId": "87fd906f-4c67-41b9-ab63-98b2282bf9df"
   },
   "outputs": [
    {
     "data": {
      "text/plain": [
       "8192"
      ]
     },
     "execution_count": 64,
     "metadata": {},
     "output_type": "execute_result"
    }
   ],
   "source": [
    "512*4*4"
   ]
  },
  {
   "cell_type": "code",
   "execution_count": 79,
   "metadata": {
    "colab": {
     "base_uri": "https://localhost:8080/"
    },
    "id": "S-1XA-MvGcPt",
    "outputId": "515a0ecc-9fb3-4ca5-c133-7dcca32300c7"
   },
   "outputs": [
    {
     "name": "stderr",
     "output_type": "stream",
     "text": [
      "/usr/local/lib/python3.10/dist-packages/torchvision/transforms/functional.py:1603: UserWarning: The default value of the antialias parameter of all the resizing transforms (Resize(), RandomResizedCrop(), etc.) will change from None to True in v0.17, in order to be consistent across the PIL and Tensor backends. To suppress this warning, directly pass antialias=True (recommended, future default), antialias=None (current default, which means False for Tensors and True for PIL), or antialias=False (only works on Tensors - PIL will still use antialiasing). This also applies if you are using the inference transforms from the models weights: update the call to weights.transforms(antialias=True).\n",
      "  warnings.warn(\n"
     ]
    }
   ],
   "source": [
    "model.eval()\n",
    "all_preds = []\n",
    "all_targets = []\n",
    "\n",
    "with torch.inference_mode():\n",
    "  for feature_val, target_val in test_loader:\n",
    "    feature_val = feature_val.to(device)\n",
    "    target_val = target_val.to(device)\n",
    "\n",
    "    pred_val = model(feature_val)\n",
    "    loss_val = loss(pred_val.squeeze(), target_val)\n",
    "\n",
    "    all_preds.extend(torch.argmax(torch.softmax(pred_val, dim=1), dim=1).cpu().numpy())\n",
    "    all_targets.extend(target_val.cpu().numpy())\n",
    "\n",
    "accuracy = accuracy_score(all_targets, all_preds)\n",
    "confusion_m = confusion_matrix(all_targets, all_preds)"
   ]
  },
  {
   "cell_type": "code",
   "execution_count": 80,
   "metadata": {
    "colab": {
     "base_uri": "https://localhost:8080/"
    },
    "id": "qiIMZ0ODGtY1",
    "outputId": "144c91c5-1b8e-4fcf-e793-d07fddd7ddda"
   },
   "outputs": [
    {
     "data": {
      "text/plain": [
       "95.2424311404507"
      ]
     },
     "execution_count": 80,
     "metadata": {},
     "output_type": "execute_result"
    }
   ],
   "source": [
    "accuracy*100"
   ]
  },
  {
   "cell_type": "code",
   "execution_count": 82,
   "metadata": {
    "colab": {
     "base_uri": "https://localhost:8080/",
     "height": 1000
    },
    "id": "e1WuyoncGoGM",
    "outputId": "0a8fa976-78bb-4e84-edcb-4dc83c58dd62"
   },
   "outputs": [
    {
     "data": {
      "text/plain": [
       "<Axes: >"
      ]
     },
     "execution_count": 82,
     "metadata": {},
     "output_type": "execute_result"
    },
    {
     "data": {
      "image/png": "[encoded data removed]",
      "text/plain": [
       "<Figure size 2000x2000 with 2 Axes>"
      ]
     },
     "metadata": {},
     "output_type": "display_data"
    }
   ],
   "source": [
    "plt.figure(figsize=(20,20))\n",
    "sns.heatmap(confusion_m, annot=True, fmt='.1f')"
   ]
  }
 ],
 "metadata": {
  "accelerator": "GPU",
  "colab": {
   "gpuType": "T4",
   "provenance": []
  },
  "kernelspec": {
   "display_name": "Python 3 (ipykernel)",
   "language": "python",
   "name": "python3"
  },
  "language_info": {
   "codemirror_mode": {
    "name": "ipython",
    "version": 3
   },
   "file_extension": ".py",
   "mimetype": "text/x-python",
   "name": "python",
   "nbconvert_exporter": "python",
   "pygments_lexer": "ipython3",
   "version": "3.12.4"
  }
 },
 "nbformat": 4,
 "nbformat_minor": 4
}
